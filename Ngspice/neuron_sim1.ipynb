{
 "cells": [
  {
   "cell_type": "code",
   "execution_count": 23,
   "metadata": {},
   "outputs": [
    {
     "name": "stdout",
     "output_type": "stream",
     "text": [
      "/usr/local/lib/libngspice.dylib\n"
     ]
    }
   ],
   "source": [
    "# check if ngspice can be found from python\n",
    "from ctypes.util import find_library\n",
    "ngspice_lib_filename = find_library('libngspice')\n",
    "print(ngspice_lib_filename) ## if the result is none, make sure that libngspice is installed"
   ]
  },
  {
   "cell_type": "code",
   "execution_count": 24,
   "metadata": {},
   "outputs": [],
   "source": [
    "%matplotlib inline\n",
    "import matplotlib.pyplot as plt"
   ]
  },
  {
   "cell_type": "code",
   "execution_count": 25,
   "metadata": {},
   "outputs": [],
   "source": [
    "import PySpice.Logging.Logging as Logging\n",
    "logger = Logging.setup_logging()\n",
    "from PySpice.Spice.NgSpice.Shared import NgSpiceShared"
   ]
  },
  {
   "cell_type": "code",
   "execution_count": 26,
   "metadata": {},
   "outputs": [
    {
     "name": "stdout",
     "output_type": "stream",
     "text": [
      "******\n",
      "** ngspice-32 : Circuit level simulation program\n",
      "** The U. C. Berkeley CAD Group\n",
      "** Copyright 1985-1994, Regents of the University of California.\n",
      "** Copyright 2001-2020, The ngspice team.\n",
      "** Please get your ngspice manual from http://ngspice.sourceforge.net/docs.html\n",
      "** Please file your bug-reports at http://ngspice.sourceforge.net/bugrep.html\n",
      "**\n",
      "** CIDER 1.b1 (CODECS simulator) included\n",
      "** XSPICE extensions included\n",
      "** Relevant compilation options (refer to user's manual):\n",
      "** X11 interface not compiled into ngspice\n",
      "**\n",
      "******\n"
     ]
    }
   ],
   "source": [
    "ngspice = NgSpiceShared.new_instance()\n",
    "print(ngspice.exec_command('version -f'))"
   ]
  },
  {
   "cell_type": "code",
   "execution_count": 27,
   "metadata": {},
   "outputs": [],
   "source": [
    "def simulate(circuit):\n",
    "    ngspice.load_circuit(circuit)\n",
    "    print('Loaded circuit:')\n",
    "    print(ngspice.listing())\n",
    "\n",
    "    ngspice.run()\n",
    "    print('Plots:', ngspice.plot_names)\n",
    "    plot = ngspice.plot(simulation=None, plot_name=ngspice.last_plot)\n",
    "    return plot"
   ]
  },
  {
   "cell_type": "code",
   "execution_count": 28,
   "metadata": {},
   "outputs": [],
   "source": [
    "#simple neuron posted in the slack"
   ]
  },
  {
   "cell_type": "code",
   "execution_count": 29,
   "metadata": {},
   "outputs": [],
   "source": [
    "mos_ckt = '''\n",
    "* SPICE file\n",
    ".include 180nm.lib\n",
    ".option scale=1u\n",
    "\n",
    "\n",
    "V1 Vdd 0 1.8\n",
    "V6 Vtau 0 0.4\n",
    "\n",
    "V2 Vthr 0 200m\n",
    "V3 Vb1 0 1\n",
    "\n",
    "C1 Vmem 0 100p\n",
    "Rload out 0 100k\n",
    "\n",
    "Iin Vdd Vmem PULSE(500n 0.1n 0 0 0 10u 20u)\n",
    "\n",
    "M5 N001 N001 Vdd Vdd pmos l=0.5 w=1.2 ad=1.2 as=1.2 pd=4.4 ps=4.4\n",
    "M6 N002 N001 Vdd Vdd pmos l=0.5 w=1.2 ad=1.2 as=1.2 pd=4.4 ps=4.4\n",
    "M8 N001 Vmem N004 N004 nmos l=0.5 w=0.6 ad=0.6 as=0.6 pd=3.2 ps=3.2\n",
    "M9 N002 Vthr N004 N004 nmos l=0.5 w=0.6 ad=0.6 as=0.6 pd=3.2 ps=3.2\n",
    "M10 N004 Vb1 0 0 nmos l=0.5 w=0.6 ad=0.6 as=0.6 pd=3.2 ps=3.2\n",
    "\n",
    "Mreset Vmem out 0 0 nmos l=0.5 w=0.6 ad=0.6 as=0.6 pd=3.2 ps=3.2\n",
    "M7 N003 N002 0 0 nmos l=0.5 w=0.6 ad=0.6 as=0.6 pd=3.2 ps=3.2\n",
    "M18 out N003 0 0 nmos l=0.5 w=0.6 ad=0.6 as=0.6 pd=3.2 ps=3.2\n",
    "M19 N003 N002 Vdd Vdd pmos l=0.5 w=1.2 ad=1.2 as=1.2 pd=4.4 ps=4.4\n",
    "M20 out N003 Vdd Vdd pmos l=0.5 w=1.2 ad=1.2 as=1.2 pd=4.4 ps=4.4\n",
    "Mleak Vmem Vtau 0 0 nmos l=0.5 w=0.6 ad=0.6 as=0.6 pd=3.2 ps=3.2\n",
    "\n",
    ".tran 0.001u 500u UIC\n",
    "\n",
    "\n",
    ".end\n",
    "'''"
   ]
  },
  {
   "cell_type": "code",
   "execution_count": 30,
   "metadata": {},
   "outputs": [
    {
     "name": "stdout",
     "output_type": "stream",
     "text": [
      "Loaded circuit:\n",
      "* spice file\n",
      "2 : .global gnd\n",
      "5 : .model nmos nmos level=49 lint=4.e-08 tox=4.e-09 vth0=0.3999 rdsw=250 lmin=1.8e-7 lmax=1.8e-7 wmin=1.8e-7 wmax=1.0e-4 tref=27.0 version=3.1 xj=6.0000000e-08 nch=5.9500000e+17 lln=1.0000000 lwn=1.0000000 wln=0.00 wwn=0.00 ll=0.00 lw=0.00 lwl=0.00 wint=0.00 wl=0.00 ww=0.00 wwl=0.00 mobmod=1 binunit=2 xl=0 xw=0 binflag=0 dwg=0.00 dwb=0.00 k1=0.5613000 k2=1.0000000e-02 k3=0.00 dvt0=8.0000000 dvt1=0.7500000 dvt2=8.0000000e-03 dvt0w=0.00 dvt1w=0.00 dvt2w=0.00 nlx=1.6500000e-07 w0=0.00 k3b=0.00 ngate=5.0000000e+2\n",
      "7 : .model pmos pmos level=49 lint=3.e-08 tox=4.2e-09 vth0=-0.42 rdsw=450 lmin=1.8e-7 lmax=1.8e-7 wmin=1.8e-7 wmax=1.0e-4 tref=27.0 version=3.1 xj=7.0000000e-08 nch=5.9200000e+17 lln=1.0000000 lwn=1.0000000 wln=0.00 wwn=0.00 ll=0.00 lw=0.00 lwl=0.00 wint=0.00 wl=0.00 ww=0.00 wwl=0.00 mobmod=1 binunit=2 xl=0.00 xw=0.00 binflag=0 dwg=0.00 dwb=0.00 acm=0 ldif=0.00 hdif=0.00 rsh=0 rd=0 rs=0 rsc=0 rdc=0 k1=0.5560000 k2=0.00 k3=0.00 dvt0=11.2000000 dvt1=0.7200000 dvt2=-1.0000000e-02 dvt0w=0.00 dvt1w=0.00 dvt2w=0.00 \n",
      "10 : v1 vdd 0 1.8\n",
      "11 : v6 vtau 0 0.4\n",
      "12 : v2 vthr 0 200m\n",
      "13 : v3 vb1 0 1\n",
      "14 : c1 vmem 0 100p\n",
      "15 : rload out 0 100k\n",
      "16 : iin vdd vmem pulse(500n 0.1n 0 0 0 10u 20u)\n",
      "17 : m5 n001 n001 vdd vdd pmos l=0.5 w=1.2 ad=1.2 as=1.2 pd=4.4 ps=4.4\n",
      "18 : m6 n002 n001 vdd vdd pmos l=0.5 w=1.2 ad=1.2 as=1.2 pd=4.4 ps=4.4\n",
      "19 : m8 n001 vmem n004 n004 nmos l=0.5 w=0.6 ad=0.6 as=0.6 pd=3.2 ps=3.2\n",
      "20 : m9 n002 vthr n004 n004 nmos l=0.5 w=0.6 ad=0.6 as=0.6 pd=3.2 ps=3.2\n",
      "21 : m10 n004 vb1 0 0 nmos l=0.5 w=0.6 ad=0.6 as=0.6 pd=3.2 ps=3.2\n",
      "22 : mreset vmem out 0 0 nmos l=0.5 w=0.6 ad=0.6 as=0.6 pd=3.2 ps=3.2\n",
      "23 : m7 n003 n002 0 0 nmos l=0.5 w=0.6 ad=0.6 as=0.6 pd=3.2 ps=3.2\n",
      "24 : m18 out n003 0 0 nmos l=0.5 w=0.6 ad=0.6 as=0.6 pd=3.2 ps=3.2\n",
      "25 : m19 n003 n002 vdd vdd pmos l=0.5 w=1.2 ad=1.2 as=1.2 pd=4.4 ps=4.4\n",
      "26 : m20 out n003 vdd vdd pmos l=0.5 w=1.2 ad=1.2 as=1.2 pd=4.4 ps=4.4\n",
      "27 : mleak vmem vtau 0 0 nmos l=0.5 w=0.6 ad=0.6 as=0.6 pd=3.2 ps=3.2\n",
      "28 : .tran 0.001u 500u uic\n",
      "9 : .option scale=1u\n",
      "30 : .end\n",
      "Plots: ['tran4', 'tran3', 'tran2', 'tran1', 'const']\n"
     ]
    }
   ],
   "source": [
    "plot = simulate(mos_ckt)"
   ]
  },
  {
   "cell_type": "code",
   "execution_count": 40,
   "metadata": {},
   "outputs": [
    {
     "data": {
      "text/plain": [
       "[<matplotlib.lines.Line2D at 0x1292ff400>]"
      ]
     },
     "execution_count": 40,
     "metadata": {},
     "output_type": "execute_result"
    },
    {
     "data": {
      "image/png": "[encoded data removed]",
      "text/plain": [
       "<Figure size 432x288 with 1 Axes>"
      ]
     },
     "metadata": {
      "needs_background": "light"
     },
     "output_type": "display_data"
    }
   ],
   "source": [
    "plt.plot(plot['time']._data,plot['vmem']._data)\n",
    "plt.plot(plot['time']._data,plot['out']._data)"
   ]
  },
  {
   "cell_type": "code",
   "execution_count": 37,
   "metadata": {},
   "outputs": [
    {
     "data": {
      "text/plain": [
       "{'v1#branch': variable: v1#branch current,\n",
       " 'v6#branch': variable: v6#branch current,\n",
       " 'v2#branch': variable: v2#branch current,\n",
       " 'v3#branch': variable: v3#branch current,\n",
       " 'n003': variable: n003 voltage,\n",
       " 'n004': variable: n004 voltage,\n",
       " 'n002': variable: n002 voltage,\n",
       " 'n001': variable: n001 voltage,\n",
       " 'out': variable: out voltage,\n",
       " 'vmem': variable: vmem voltage,\n",
       " 'vb1': variable: vb1 voltage,\n",
       " 'vthr': variable: vthr voltage,\n",
       " 'vtau': variable: vtau voltage,\n",
       " 'vdd': variable: vdd voltage,\n",
       " 'time': variable: time time}"
      ]
     },
     "execution_count": 37,
     "metadata": {},
     "output_type": "execute_result"
    }
   ],
   "source": [
    "plot"
   ]
  }
 ],
 "metadata": {
  "kernelspec": {
   "display_name": "Python 3",
   "language": "python",
   "name": "python3"
  },
  "language_info": {
   "codemirror_mode": {
    "name": "ipython",
    "version": 3
   },
   "file_extension": ".py",
   "mimetype": "text/x-python",
   "name": "python",
   "nbconvert_exporter": "python",
   "pygments_lexer": "ipython3",
   "version": "3.8.3"
  }
 },
 "nbformat": 4,
 "nbformat_minor": 4
}
